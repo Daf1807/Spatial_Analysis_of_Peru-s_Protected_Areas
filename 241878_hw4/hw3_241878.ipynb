{
 "cells": [
  {
   "cell_type": "markdown",
   "id": "f06d4c8f",
   "metadata": {},
   "source": [
    "## Obtener polígonos de áreas protegidas de Perú desde OSM (25 pts)"
   ]
  },
  {
   "cell_type": "code",
   "execution_count": null,
   "id": "59819b1d",
   "metadata": {},
   "outputs": [
    {
     "name": "stdout",
     "output_type": "stream",
     "text": [
      "Estás trabajando en esta carpeta:\n",
      "c:\\Users\\usuario\\AppData\\Local\\Programs\\Microsoft VS Code\n"
     ]
    }
   ],
   "source": [
    "import os\n",
    "print(\"Estás trabajando en esta carpeta:\")\n",
    "print(os.getcwd())"
   ]
  },
  {
   "cell_type": "code",
   "execution_count": 1,
   "id": "7caeed24",
   "metadata": {},
   "outputs": [
    {
     "ename": "ModuleNotFoundError",
     "evalue": "No module named 'osmnx'",
     "output_type": "error",
     "traceback": [
      "\u001b[1;31m---------------------------------------------------------------------------\u001b[0m",
      "\u001b[1;31mModuleNotFoundError\u001b[0m                       Traceback (most recent call last)",
      "Cell \u001b[1;32mIn[1], line 1\u001b[0m\n\u001b[1;32m----> 1\u001b[0m \u001b[38;5;28;01mimport\u001b[39;00m\u001b[38;5;250m \u001b[39m\u001b[38;5;21;01mosmnx\u001b[39;00m\u001b[38;5;250m \u001b[39m\u001b[38;5;28;01mas\u001b[39;00m\u001b[38;5;250m \u001b[39m\u001b[38;5;21;01mox\u001b[39;00m\n\u001b[0;32m      2\u001b[0m \u001b[38;5;28;01mimport\u001b[39;00m\u001b[38;5;250m \u001b[39m\u001b[38;5;21;01mgeopandas\u001b[39;00m\u001b[38;5;250m \u001b[39m\u001b[38;5;28;01mas\u001b[39;00m\u001b[38;5;250m \u001b[39m\u001b[38;5;21;01mgpd\u001b[39;00m\n\u001b[0;32m      3\u001b[0m \u001b[38;5;28;01mimport\u001b[39;00m\u001b[38;5;250m \u001b[39m\u001b[38;5;21;01mrequests\u001b[39;00m\n",
      "\u001b[1;31mModuleNotFoundError\u001b[0m: No module named 'osmnx'"
     ]
    }
   ],
   "source": [
    "import osmnx as ox\n",
    "import geopandas as gpd\n",
    "import requests\n",
    "\n",
    "# Paso 1: Obtener el polígono del país Perú\n",
    "peru_gdf = ox.geocode_to_gdf('Peru')\n",
    "peru_polygon = peru_gdf.iloc[0].geometry\n",
    "\n",
    "# Paso 2: Descargar características desde Overpass API\n",
    "# Incluye los tags relevantes\n",
    "tags = {\n",
    "    'boundary': 'protected_area',\n",
    "    'leisure': 'nature_reserve',\n",
    "    'protect_class': True  # El valor True indica que queremos cualquier valor existente para esta key\n",
    "}\n",
    "\n",
    "# Extraer geometrías con los tags, dentro del polígono de Perú\n",
    "gdf = ox.features_from_polygon(peru_polygon, tags=tags)\n",
    "\n",
    "# Paso 3: Filtrar por clases específicas de áreas protegidas\n",
    "# Por ejemplo, parques nacionales y reservas forestales\n",
    "# protect_class valores típicos:\n",
    "# 1: Reservas estrictas, 2: Parques nacionales, 4: Reservas naturales, etc.\n",
    "filtered_gdf = gdf[gdf['protect_class'].isin(['2', '4', '6'])]  # Puedes añadir más códigos si es necesario\n",
    "\n",
    "# Asegúrate de que sea solo polígonos\n",
    "filtered_gdf = filtered_gdf[filtered_gdf.geometry.type.isin(['Polygon', 'MultiPolygon'])]\n",
    "\n",
    "# Paso 4: Guardar a archivo GeoPackage\n",
    "output_file = 'peru_protected_areas.gpkg'\n",
    "filtered_gdf.to_file(output_file, driver='GPKG')\n",
    "\n",
    "print(f\"Guardado en {output_file}, total de áreas: {len(filtered_gdf)}\")\n"
   ]
  },
  {
   "cell_type": "code",
   "execution_count": null,
   "id": "26cf9306",
   "metadata": {},
   "outputs": [],
   "source": []
  }
 ],
 "metadata": {
  "kernelspec": {
   "display_name": "peru_env",
   "language": "python",
   "name": "python3"
  },
  "language_info": {
   "codemirror_mode": {
    "name": "ipython",
    "version": 3
   },
   "file_extension": ".py",
   "mimetype": "text/x-python",
   "name": "python",
   "nbconvert_exporter": "python",
   "pygments_lexer": "ipython3",
   "version": "3.10.16"
  }
 },
 "nbformat": 4,
 "nbformat_minor": 5
}
